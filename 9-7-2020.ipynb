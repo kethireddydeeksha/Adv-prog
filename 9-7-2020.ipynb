{
 "cells": [
  {
   "cell_type": "markdown",
   "metadata": {},
   "source": [
    "## class(day-40:9-7-20)"
   ]
  },
  {
   "cell_type": "markdown",
   "metadata": {
    "colab_type": "text",
    "id": "fdV7d8wCu44l"
   },
   "source": [
    "### Hand-Written Digits Recognition"
   ]
  },
  {
   "cell_type": "markdown",
   "metadata": {
    "colab_type": "text",
    "id": "s5wX2Y3Eu6uI"
   },
   "source": [
    "#### Data Collection:"
   ]
  },
  {
   "cell_type": "code",
   "execution_count": 1,
   "metadata": {
    "colab": {
     "base_uri": "https://localhost:8080/",
     "height": 72
    },
    "colab_type": "code",
    "id": "Nzw2yb4DvE3N",
    "outputId": "50c4d410-c128-493a-ce4a-1a15377a0782"
   },
   "outputs": [
    {
     "name": "stderr",
     "output_type": "stream",
     "text": [
      "/usr/local/lib/python3.6/dist-packages/statsmodels/tools/_testing.py:19: FutureWarning: pandas.util.testing is deprecated. Use the functions in the public API at pandas.testing instead.\n",
      "  import pandas.util.testing as tm\n"
     ]
    }
   ],
   "source": [
    "#impoting libs:\n",
    "import tensorflow as tf\n",
    "import tensorflow.keras as keras\n",
    "import numpy as np\n",
    "import pandas as pd\n",
    "import matplotlib.pyplot as plt\n",
    "import seaborn as sns\n",
    "%matplotlib inline"
   ]
  },
  {
   "cell_type": "code",
   "execution_count": 2,
   "metadata": {
    "colab": {
     "base_uri": "https://localhost:8080/",
     "height": 34
    },
    "colab_type": "code",
    "id": "Mf4BR5d8vbTi",
    "outputId": "b2800343-a884-4f55-c388-9475bc5de31f"
   },
   "outputs": [
    {
     "name": "stderr",
     "output_type": "stream",
     "text": [
      "Using TensorFlow backend.\n"
     ]
    }
   ],
   "source": [
    "from keras.datasets.mnist import load_data"
   ]
  },
  {
   "cell_type": "code",
   "execution_count": 3,
   "metadata": {
    "colab": {
     "base_uri": "https://localhost:8080/",
     "height": 34
    },
    "colab_type": "code",
    "id": "1W7FN510vt-o",
    "outputId": "082bd06d-c761-4445-ec8e-c8366a93d3d5"
   },
   "outputs": [
    {
     "name": "stdout",
     "output_type": "stream",
     "text": [
      "(60000, 28, 28)\n"
     ]
    }
   ],
   "source": [
    "## load_data-->return value is two tuples train and test\n",
    "(train_digits,train_labels),(test_digits,test_labels)=load_data()\n",
    "print(train_digits.shape)"
   ]
  },
  {
   "cell_type": "markdown",
   "metadata": {
    "colab_type": "text",
    "id": "4T1vlTfVwg05"
   },
   "source": [
    "There are 60000 images in the training data. Each image size --> 28*28"
   ]
  },
  {
   "cell_type": "code",
   "execution_count": 4,
   "metadata": {
    "colab": {
     "base_uri": "https://localhost:8080/",
     "height": 34
    },
    "colab_type": "code",
    "id": "O32WNEFpwuRy",
    "outputId": "e6f396d8-2eae-4bd1-b90c-a897ebc1eaaa"
   },
   "outputs": [
    {
     "name": "stdout",
     "output_type": "stream",
     "text": [
      "(10000, 28, 28)\n"
     ]
    }
   ],
   "source": [
    "print(test_digits.shape)"
   ]
  },
  {
   "cell_type": "markdown",
   "metadata": {
    "colab_type": "text",
    "id": "a52TVcSixtOK"
   },
   "source": [
    "There are 10 classes from class 0 to class 9."
   ]
  },
  {
   "cell_type": "code",
   "execution_count": 5,
   "metadata": {
    "colab": {
     "base_uri": "https://localhost:8080/",
     "height": 34
    },
    "colab_type": "code",
    "id": "jpSE-F5Oxwd9",
    "outputId": "3073c033-10c6-4893-af58-4063094bfdf5"
   },
   "outputs": [
    {
     "name": "stdout",
     "output_type": "stream",
     "text": [
      "(60000,)\n"
     ]
    }
   ],
   "source": [
    "print(train_labels.shape)"
   ]
  },
  {
   "cell_type": "markdown",
   "metadata": {
    "colab_type": "text",
    "id": "L7CCpfPbyyio"
   },
   "source": [
    "To get the class wise counts"
   ]
  },
  {
   "cell_type": "code",
   "execution_count": 6,
   "metadata": {
    "colab": {
     "base_uri": "https://localhost:8080/",
     "height": 34
    },
    "colab_type": "code",
    "id": "5oPVz1m7x1zu",
    "outputId": "3d571bd6-ea28-4068-95fc-f86a0317b1b5"
   },
   "outputs": [
    {
     "data": {
      "text/plain": [
       "numpy.ndarray"
      ]
     },
     "execution_count": 6,
     "metadata": {
      "tags": []
     },
     "output_type": "execute_result"
    }
   ],
   "source": [
    "type(train_labels)"
   ]
  },
  {
   "cell_type": "code",
   "execution_count": 7,
   "metadata": {
    "colab": {
     "base_uri": "https://localhost:8080/",
     "height": 208
    },
    "colab_type": "code",
    "id": "Alce50h3y6HS",
    "outputId": "b2f30688-043b-4ee1-fa7b-79758f73a2a0"
   },
   "outputs": [
    {
     "data": {
      "text/plain": [
       "1    6742\n",
       "7    6265\n",
       "3    6131\n",
       "2    5958\n",
       "9    5949\n",
       "0    5923\n",
       "6    5918\n",
       "8    5851\n",
       "4    5842\n",
       "5    5421\n",
       "dtype: int64"
      ]
     },
     "execution_count": 7,
     "metadata": {
      "tags": []
     },
     "output_type": "execute_result"
    }
   ],
   "source": [
    "pd.Series(train_labels).value_counts()"
   ]
  },
  {
   "cell_type": "code",
   "execution_count": 8,
   "metadata": {
    "colab": {
     "base_uri": "https://localhost:8080/",
     "height": 208
    },
    "colab_type": "code",
    "id": "nKzXVWU3zAN0",
    "outputId": "75b50c3c-c63f-4da7-c0aa-19f478d9e591"
   },
   "outputs": [
    {
     "data": {
      "text/plain": [
       "1    1135\n",
       "2    1032\n",
       "7    1028\n",
       "3    1010\n",
       "9    1009\n",
       "4     982\n",
       "0     980\n",
       "8     974\n",
       "6     958\n",
       "5     892\n",
       "dtype: int64"
      ]
     },
     "execution_count": 8,
     "metadata": {
      "tags": []
     },
     "output_type": "execute_result"
    }
   ],
   "source": [
    "pd.Series(test_labels).value_counts()"
   ]
  },
  {
   "cell_type": "markdown",
   "metadata": {
    "colab_type": "text",
    "id": "tzMUTNvKz5pQ"
   },
   "source": [
    "### EDA"
   ]
  },
  {
   "cell_type": "code",
   "execution_count": 9,
   "metadata": {
    "colab": {
     "base_uri": "https://localhost:8080/",
     "height": 282
    },
    "colab_type": "code",
    "id": "dFMsVbYozRPy",
    "outputId": "dd0c030c-620b-42a2-cdfc-25729bf07265"
   },
   "outputs": [
    {
     "data": {
      "text/plain": [
       "<matplotlib.image.AxesImage at 0x7f31d3a39860>"
      ]
     },
     "execution_count": 9,
     "metadata": {
      "tags": []
     },
     "output_type": "execute_result"
    },
    {
     "data": {
      "image/png": "[encoded data removed]",
      "text/plain": [
       "<Figure size 432x288 with 1 Axes>"
      ]
     },
     "metadata": {
      "needs_background": "light",
      "tags": []
     },
     "output_type": "display_data"
    }
   ],
   "source": [
    "plt.imshow(train_digits[0])"
   ]
  },
  {
   "cell_type": "code",
   "execution_count": 10,
   "metadata": {
    "colab": {
     "base_uri": "https://localhost:8080/",
     "height": 282
    },
    "colab_type": "code",
    "id": "8E9CeWgP0BbR",
    "outputId": "83dfd6e7-cf71-425e-be3a-8ac07f04408b"
   },
   "outputs": [
    {
     "data": {
      "text/plain": [
       "<matplotlib.image.AxesImage at 0x7f31d3584fd0>"
      ]
     },
     "execution_count": 10,
     "metadata": {
      "tags": []
     },
     "output_type": "execute_result"
    },
    {
     "data": {
      "image/png": "[encoded data removed]",
      "text/plain": [
       "<Figure size 432x288 with 1 Axes>"
      ]
     },
     "metadata": {
      "needs_background": "light",
      "tags": []
     },
     "output_type": "display_data"
    }
   ],
   "source": [
    "plt.imshow(train_digits[5],cmap=\"gray\")"
   ]
  },
  {
   "cell_type": "code",
   "execution_count": 11,
   "metadata": {
    "colab": {
     "base_uri": "https://localhost:8080/",
     "height": 298
    },
    "colab_type": "code",
    "id": "AwWn4iR40IFo",
    "outputId": "46b168c7-1684-4454-a538-26919fd6ac96"
   },
   "outputs": [
    {
     "data": {
      "text/plain": [
       "Text(0.5, 1.0, 'DIGIT 3')"
      ]
     },
     "execution_count": 11,
     "metadata": {
      "tags": []
     },
     "output_type": "execute_result"
    },
    {
     "data": {
      "image/png": "[encoded data removed]",
      "text/plain": [
       "<Figure size 432x288 with 1 Axes>"
      ]
     },
     "metadata": {
      "needs_background": "light",
      "tags": []
     },
     "output_type": "display_data"
    }
   ],
   "source": [
    "plt.imshow(train_digits[10])\n",
    "plt.title(\"DIGIT \"+str(train_labels[10]))"
   ]
  },
  {
   "cell_type": "code",
   "execution_count": 12,
   "metadata": {
    "colab": {
     "base_uri": "https://localhost:8080/",
     "height": 803
    },
    "colab_type": "code",
    "id": "37UUzNcA0weU",
    "outputId": "61927934-ae56-4e8e-8f2f-36d034601ae4"
   },
   "outputs": [
    {
     "data": {
      "text/plain": [
       "(array([[28.,  0.,  0.,  0.,  0.,  0.,  0.,  0.,  0.,  0.],\n",
       "        [28.,  0.,  0.,  0.,  0.,  0.,  0.,  0.,  0.,  0.],\n",
       "        [28.,  0.,  0.,  0.,  0.,  0.,  0.,  0.,  0.,  0.],\n",
       "        [28.,  0.,  0.,  0.,  0.,  0.,  0.,  0.,  0.,  0.],\n",
       "        [26.,  0.,  1.,  0.,  0.,  1.,  0.,  0.,  0.,  0.],\n",
       "        [26.,  0.,  0.,  0.,  0.,  0.,  1.,  0.,  0.,  1.],\n",
       "        [26.,  0.,  0.,  0.,  0.,  0.,  0.,  0.,  1.,  1.],\n",
       "        [24.,  1.,  0.,  0.,  0.,  0.,  1.,  0.,  0.,  2.],\n",
       "        [21.,  1.,  0.,  1.,  0.,  0.,  0.,  0.,  3.,  2.],\n",
       "        [20.,  1.,  1.,  0.,  0.,  1.,  1.,  0.,  0.,  4.],\n",
       "        [20.,  0.,  0.,  1.,  1.,  1.,  0.,  0.,  1.,  4.],\n",
       "        [18.,  0.,  0.,  0.,  1.,  1.,  2.,  0.,  0.,  6.],\n",
       "        [15.,  2.,  0.,  0.,  0.,  1.,  1.,  1.,  1.,  7.],\n",
       "        [15.,  0.,  0.,  2.,  0.,  1.,  0.,  2.,  1.,  7.],\n",
       "        [16.,  2.,  1.,  1.,  0.,  0.,  0.,  1.,  2.,  5.],\n",
       "        [18.,  0.,  0.,  0.,  0.,  1.,  1.,  3.,  0.,  5.],\n",
       "        [15.,  1.,  0.,  2.,  2.,  0.,  0.,  1.,  0.,  7.],\n",
       "        [16.,  0.,  0.,  0.,  1.,  1.,  1.,  1.,  0.,  8.],\n",
       "        [19.,  0.,  0.,  2.,  0.,  1.,  1.,  0.,  1.,  4.],\n",
       "        [20.,  2.,  0.,  1.,  0.,  0.,  1.,  2.,  1.,  1.],\n",
       "        [24.,  0.,  1.,  1.,  0.,  0.,  1.,  0.,  0.,  1.],\n",
       "        [25.,  0.,  1.,  0.,  0.,  0.,  0.,  0.,  0.,  2.],\n",
       "        [25.,  1.,  0.,  0.,  0.,  0.,  0.,  1.,  0.,  1.],\n",
       "        [26.,  0.,  1.,  0.,  1.,  0.,  0.,  0.,  0.,  0.],\n",
       "        [28.,  0.,  0.,  0.,  0.,  0.,  0.,  0.,  0.,  0.],\n",
       "        [28.,  0.,  0.,  0.,  0.,  0.,  0.,  0.,  0.,  0.],\n",
       "        [28.,  0.,  0.,  0.,  0.,  0.,  0.,  0.,  0.,  0.],\n",
       "        [28.,  0.,  0.,  0.,  0.,  0.,  0.,  0.,  0.,  0.]]),\n",
       " array([  0. ,  25.5,  51. ,  76.5, 102. , 127.5, 153. , 178.5, 204. ,\n",
       "        229.5, 255. ]),\n",
       " <a list of 28 Lists of Patches objects>)"
      ]
     },
     "execution_count": 12,
     "metadata": {
      "tags": []
     },
     "output_type": "execute_result"
    },
    {
     "data": {
      "image/png": "[encoded data removed]",
      "text/plain": [
       "<Figure size 432x288 with 1 Axes>"
      ]
     },
     "metadata": {
      "needs_background": "light",
      "tags": []
     },
     "output_type": "display_data"
    }
   ],
   "source": [
    "plt.hist(train_digits[0])"
   ]
  },
  {
   "cell_type": "code",
   "execution_count": 13,
   "metadata": {
    "colab": {
     "base_uri": "https://localhost:8080/",
     "height": 821
    },
    "colab_type": "code",
    "id": "2wqZ66yQ1Ny7",
    "outputId": "0072a7b3-a834-478e-a1e6-7a9d711c9626"
   },
   "outputs": [
    {
     "data": {
      "text/plain": [
       "(array([[28.,  0.,  0., ...,  0.,  0.,  0.],\n",
       "        [28.,  0.,  0., ...,  0.,  0.,  0.],\n",
       "        [28.,  0.,  0., ...,  0.,  0.,  0.],\n",
       "        ...,\n",
       "        [28.,  0.,  0., ...,  0.,  0.,  0.],\n",
       "        [28.,  0.,  0., ...,  0.,  0.,  0.],\n",
       "        [28.,  0.,  0., ...,  0.,  0.,  0.]]),\n",
       " array([  0.,   1.,   2.,   3.,   4.,   5.,   6.,   7.,   8.,   9.,  10.,\n",
       "         11.,  12.,  13.,  14.,  15.,  16.,  17.,  18.,  19.,  20.,  21.,\n",
       "         22.,  23.,  24.,  25.,  26.,  27.,  28.,  29.,  30.,  31.,  32.,\n",
       "         33.,  34.,  35.,  36.,  37.,  38.,  39.,  40.,  41.,  42.,  43.,\n",
       "         44.,  45.,  46.,  47.,  48.,  49.,  50.,  51.,  52.,  53.,  54.,\n",
       "         55.,  56.,  57.,  58.,  59.,  60.,  61.,  62.,  63.,  64.,  65.,\n",
       "         66.,  67.,  68.,  69.,  70.,  71.,  72.,  73.,  74.,  75.,  76.,\n",
       "         77.,  78.,  79.,  80.,  81.,  82.,  83.,  84.,  85.,  86.,  87.,\n",
       "         88.,  89.,  90.,  91.,  92.,  93.,  94.,  95.,  96.,  97.,  98.,\n",
       "         99., 100., 101., 102., 103., 104., 105., 106., 107., 108., 109.,\n",
       "        110., 111., 112., 113., 114., 115., 116., 117., 118., 119., 120.,\n",
       "        121., 122., 123., 124., 125., 126., 127., 128., 129., 130., 131.,\n",
       "        132., 133., 134., 135., 136., 137., 138., 139., 140., 141., 142.,\n",
       "        143., 144., 145., 146., 147., 148., 149., 150., 151., 152., 153.,\n",
       "        154., 155., 156., 157., 158., 159., 160., 161., 162., 163., 164.,\n",
       "        165., 166., 167., 168., 169., 170., 171., 172., 173., 174., 175.,\n",
       "        176., 177., 178., 179., 180., 181., 182., 183., 184., 185., 186.,\n",
       "        187., 188., 189., 190., 191., 192., 193., 194., 195., 196., 197.,\n",
       "        198., 199., 200., 201., 202., 203., 204., 205., 206., 207., 208.,\n",
       "        209., 210., 211., 212., 213., 214., 215., 216., 217., 218., 219.,\n",
       "        220., 221., 222., 223., 224., 225., 226., 227., 228., 229., 230.,\n",
       "        231., 232., 233., 234., 235., 236., 237., 238., 239., 240., 241.,\n",
       "        242., 243., 244., 245., 246., 247., 248., 249., 250., 251., 252.,\n",
       "        253., 254., 255.]),\n",
       " <a list of 28 Lists of Patches objects>)"
      ]
     },
     "execution_count": 13,
     "metadata": {
      "tags": []
     },
     "output_type": "execute_result"
    },
    {
     "data": {
      "image/png": "[encoded data removed]",
      "text/plain": [
       "<Figure size 432x288 with 1 Axes>"
      ]
     },
     "metadata": {
      "needs_background": "light",
      "tags": []
     },
     "output_type": "display_data"
    }
   ],
   "source": [
    "plt.hist(train_digits[0],bins=255)"
   ]
  },
  {
   "cell_type": "code",
   "execution_count": 14,
   "metadata": {
    "colab": {
     "base_uri": "https://localhost:8080/",
     "height": 334
    },
    "colab_type": "code",
    "id": "9VEXdMj51mHA",
    "outputId": "aa36ac6d-9de9-4f46-a2a3-73a91001131d"
   },
   "outputs": [
    {
     "data": {
      "text/plain": [
       "(array([639.,  11.,   6.,  11.,   6.,   9.,  11.,  12.,  11.,  68.]),\n",
       " array([  0. ,  25.5,  51. ,  76.5, 102. , 127.5, 153. , 178.5, 204. ,\n",
       "        229.5, 255. ]),\n",
       " <a list of 10 Patch objects>)"
      ]
     },
     "execution_count": 14,
     "metadata": {
      "tags": []
     },
     "output_type": "execute_result"
    },
    {
     "data": {
      "image/png": "[encoded data removed]",
      "text/plain": [
       "<Figure size 432x288 with 1 Axes>"
      ]
     },
     "metadata": {
      "needs_background": "light",
      "tags": []
     },
     "output_type": "display_data"
    }
   ],
   "source": [
    "plt.hist(train_digits[0].flat)"
   ]
  },
  {
   "cell_type": "code",
   "execution_count": 15,
   "metadata": {
    "colab": {
     "base_uri": "https://localhost:8080/",
     "height": 52
    },
    "colab_type": "code",
    "id": "J-Y9OeAk2W6q",
    "outputId": "a861ed7f-19ce-4281-c1e5-93662b0f7341"
   },
   "outputs": [
    {
     "data": {
      "text/plain": [
       "array([17052, 33093,  6949, 23054, 37435, 13186, 38900, 52780,  7395,\n",
       "       23767, 11317, 26902,  9800, 35945, 19525, 24537])"
      ]
     },
     "execution_count": 15,
     "metadata": {
      "tags": []
     },
     "output_type": "execute_result"
    }
   ],
   "source": [
    "samples=np.random.randint(train_digits.shape[0],size=16)\n",
    "samples"
   ]
  },
  {
   "cell_type": "code",
   "execution_count": 16,
   "metadata": {
    "colab": {
     "base_uri": "https://localhost:8080/",
     "height": 917
    },
    "colab_type": "code",
    "id": "a1r2JFCj5_wE",
    "outputId": "7ed322e2-7006-41be-c098-947775c67472"
   },
   "outputs": [
    {
     "data": {
      "image/png": "[encoded data removed]",
      "text/plain": [
       "<Figure size 1152x1152 with 16 Axes>"
      ]
     },
     "metadata": {
      "needs_background": "light",
      "tags": []
     },
     "output_type": "display_data"
    }
   ],
   "source": [
    "plt.figure(figsize=(16,16))\n",
    "j=1\n",
    "for i in samples:\n",
    "  plt.subplot(4,4,j)\n",
    "  plt.imshow(train_digits[i])\n",
    "  plt.title(\"DIGIT \"+str(train_labels[i]))\n",
    "  plt.axis('off')\n",
    "  j+=1"
   ]
  },
  {
   "cell_type": "code",
   "execution_count": 17,
   "metadata": {
    "colab": {
     "base_uri": "https://localhost:8080/",
     "height": 934
    },
    "colab_type": "code",
    "id": "g9glPg996rLp",
    "outputId": "15602016-4f6b-4c1f-d5ef-5053ca90e497"
   },
   "outputs": [
    {
     "data": {
      "image/png": "[encoded data removed]",
      "text/plain": [
       "<Figure size 1152x1152 with 16 Axes>"
      ]
     },
     "metadata": {
      "needs_background": "light",
      "tags": []
     },
     "output_type": "display_data"
    }
   ],
   "source": [
    "plt.figure(figsize=(16,16))\n",
    "j=1\n",
    "for i in samples:\n",
    "  plt.subplot(4,4,j)\n",
    "  plt.hist(train_digits[i].flat)\n",
    "  plt.title(\"DIGIT \"+str(train_labels[i]))\n",
    "  j+=1"
   ]
  },
  {
   "cell_type": "markdown",
   "metadata": {
    "colab_type": "text",
    "id": "yfzmZOVO864m"
   },
   "source": [
    "### Pre-processing"
   ]
  },
  {
   "cell_type": "markdown",
   "metadata": {
    "colab_type": "text",
    "id": "_rKQE20k89or"
   },
   "source": [
    "### Scaling:"
   ]
  },
  {
   "cell_type": "code",
   "execution_count": 18,
   "metadata": {
    "colab": {},
    "colab_type": "code",
    "id": "3ZmnuocL6zQd"
   },
   "outputs": [],
   "source": [
    "train_digits_sc= train_digits/255.0\n",
    "test_digits_sc=test_digits/255.0"
   ]
  },
  {
   "cell_type": "code",
   "execution_count": 19,
   "metadata": {
    "colab": {
     "base_uri": "https://localhost:8080/",
     "height": 34
    },
    "colab_type": "code",
    "id": "_a0OfS3U9rw_",
    "outputId": "c32b1769-2a6b-4fdd-9597-4a9eedb70b27"
   },
   "outputs": [
    {
     "data": {
      "text/plain": [
       "array([5, 0, 4, ..., 5, 6, 8], dtype=uint8)"
      ]
     },
     "execution_count": 19,
     "metadata": {
      "tags": []
     },
     "output_type": "execute_result"
    }
   ],
   "source": [
    "train_labels"
   ]
  },
  {
   "cell_type": "code",
   "execution_count": 20,
   "metadata": {
    "colab": {},
    "colab_type": "code",
    "id": "7FPL8IJ19jP4"
   },
   "outputs": [],
   "source": [
    "#Convert labels into CATEGORICAL VALUES:\n",
    "from keras.utils import to_categorical\n",
    "train_labels_cat=to_categorical(train_labels)"
   ]
  },
  {
   "cell_type": "code",
   "execution_count": 21,
   "metadata": {
    "colab": {
     "base_uri": "https://localhost:8080/",
     "height": 34
    },
    "colab_type": "code",
    "id": "HgKMLtg597vJ",
    "outputId": "773e94fa-8692-40a5-c092-1bcfcffc5acd"
   },
   "outputs": [
    {
     "data": {
      "text/plain": [
       "array([0., 0., 0., 0., 0., 1., 0., 0., 0., 0.], dtype=float32)"
      ]
     },
     "execution_count": 21,
     "metadata": {
      "tags": []
     },
     "output_type": "execute_result"
    }
   ],
   "source": [
    "train_labels_cat[0]"
   ]
  },
  {
   "cell_type": "code",
   "execution_count": 22,
   "metadata": {
    "colab": {
     "base_uri": "https://localhost:8080/",
     "height": 34
    },
    "colab_type": "code",
    "id": "nSzpIG64-DdH",
    "outputId": "ad7c7e10-25ef-49e5-f35b-3f5b3137f574"
   },
   "outputs": [
    {
     "data": {
      "text/plain": [
       "array([0., 0., 0., 0., 0., 0., 0., 1., 0., 0.], dtype=float32)"
      ]
     },
     "execution_count": 22,
     "metadata": {
      "tags": []
     },
     "output_type": "execute_result"
    }
   ],
   "source": [
    "test_labels_cat=to_categorical(test_labels)\n",
    "test_labels_cat[0]"
   ]
  },
  {
   "cell_type": "markdown",
   "metadata": {
    "colab_type": "text",
    "id": "NJbeJBcy-i5p"
   },
   "source": [
    "### Splitting and Validating the data:"
   ]
  },
  {
   "cell_type": "code",
   "execution_count": 23,
   "metadata": {
    "colab": {
     "base_uri": "https://localhost:8080/",
     "height": 86
    },
    "colab_type": "code",
    "id": "JvEAGM_z-PCP",
    "outputId": "33131557-6636-4e5f-84c8-ffb5c17fb62d"
   },
   "outputs": [
    {
     "name": "stdout",
     "output_type": "stream",
     "text": [
      "(54000, 28, 28)\n",
      "(6000, 28, 28)\n",
      "(54000, 10)\n",
      "(6000, 10)\n"
     ]
    }
   ],
   "source": [
    "from sklearn.model_selection import train_test_split\n",
    "X_train,X_val,y_train,y_val=train_test_split(train_digits_sc,train_labels_cat,test_size=0.1,random_state=54)\n",
    "print(X_train.shape)\n",
    "print(X_val.shape)\n",
    "print(y_train.shape)\n",
    "print(y_val.shape)"
   ]
  },
  {
   "cell_type": "markdown",
   "metadata": {
    "colab_type": "text",
    "id": "8z3Xz1cc_Rgk"
   },
   "source": [
    "### Building and Training the MODEL:\n",
    "- we need to take 1d array as input for DENSE layer<br>\n",
    "- How many Hidden Layer?<br>\n",
    "- How many Neuron in each layer?<br>\n",
    "- what is the ACTIVATION FUNCTION for the Hiddem=n layers?<br>\n",
    "- How many neurons in the OUTPUT layer?<br>\n",
    "- What is the ACTIVATION function for output layer?<br>"
   ]
  },
  {
   "cell_type": "code",
   "execution_count": 24,
   "metadata": {
    "colab": {},
    "colab_type": "code",
    "id": "ePQA_r1h_Pik"
   },
   "outputs": [],
   "source": [
    "#Build the Model:\n",
    "from keras.models import Sequential\n",
    "from keras.layers import Dense,Flatten"
   ]
  },
  {
   "cell_type": "code",
   "execution_count": 25,
   "metadata": {
    "colab": {
     "base_uri": "https://localhost:8080/",
     "height": 434
    },
    "colab_type": "code",
    "id": "bkI6VoNpCyqE",
    "outputId": "dce8658f-34d7-48c9-87b4-f8f8a1929856"
   },
   "outputs": [
    {
     "name": "stdout",
     "output_type": "stream",
     "text": [
      "Model: \"sequential_1\"\n",
      "_________________________________________________________________\n",
      "Layer (type)                 Output Shape              Param #   \n",
      "=================================================================\n",
      "flatten_1 (Flatten)          (None, 784)               0         \n",
      "_________________________________________________________________\n",
      "dense_1 (Dense)              (None, 128)               100480    \n",
      "_________________________________________________________________\n",
      "dense_2 (Dense)              (None, 128)               16512     \n",
      "_________________________________________________________________\n",
      "dense_3 (Dense)              (None, 64)                8256      \n",
      "_________________________________________________________________\n",
      "dense_4 (Dense)              (None, 256)               16640     \n",
      "_________________________________________________________________\n",
      "dense_5 (Dense)              (None, 256)               65792     \n",
      "_________________________________________________________________\n",
      "dense_6 (Dense)              (None, 64)                16448     \n",
      "_________________________________________________________________\n",
      "dense_7 (Dense)              (None, 10)                650       \n",
      "=================================================================\n",
      "Total params: 224,778\n",
      "Trainable params: 224,778\n",
      "Non-trainable params: 0\n",
      "_________________________________________________________________\n"
     ]
    }
   ],
   "source": [
    "#Now, we are creating the skeleton(the structure of the model)\n",
    "#how many hidden layers, how many neurons etc.\n",
    "model= Sequential()\n",
    "#first layer:\n",
    "model.add(Flatten(input_shape=(28,28))) #input layer\n",
    "#784 pixel values as input to DENSE . 128 Neurons in the Layers.\n",
    "#hidden layers:\n",
    "model.add(Dense(128,activation='relu')) #728*28+128(bias) #128 bias for 128 nodes\n",
    "model.add(Dense(128,activation='relu'))\n",
    "model.add(Dense(64,activation='relu'))\n",
    "model.add(Dense(256,activation='relu'))\n",
    "model.add(Dense(256,activation='relu'))\n",
    "model.add(Dense(64,activation='relu'))\n",
    "#final layer:\n",
    "model.add(Dense(10,activation='softmax')) #10 because--> there are 10 classes in the output layer\n",
    "model.summary()"
   ]
  },
  {
   "cell_type": "markdown",
   "metadata": {
    "colab_type": "text",
    "id": "mA5t8DWIHcF5"
   },
   "source": [
    "### Compile the MODEL\n",
    "- what is the LOSS Func?<br>\n",
    "- What is the OPTIMIZER?<br>\n",
    "- What are the METRICS?<br>"
   ]
  },
  {
   "cell_type": "code",
   "execution_count": 26,
   "metadata": {
    "colab": {},
    "colab_type": "code",
    "id": "BG3uMp2OExUN"
   },
   "outputs": [],
   "source": [
    "model.compile(optimizer='adam',loss=tf.keras.losses.CategoricalCrossentropy(),metrics=['accuracy'])"
   ]
  },
  {
   "cell_type": "markdown",
   "metadata": {
    "colab_type": "text",
    "id": "V99mOLRFI_yn"
   },
   "source": [
    "### Train the model:"
   ]
  },
  {
   "cell_type": "code",
   "execution_count": 27,
   "metadata": {
    "colab": {
     "base_uri": "https://localhost:8080/",
     "height": 382
    },
    "colab_type": "code",
    "id": "IVb9tiqlII5z",
    "outputId": "d6d31e09-53c9-4ebf-c02b-570bc61daa83"
   },
   "outputs": [
    {
     "name": "stdout",
     "output_type": "stream",
     "text": [
      "Train on 54000 samples, validate on 6000 samples\n",
      "Epoch 1/10\n",
      "54000/54000 [==============================] - 7s 126us/step - loss: 0.2637 - accuracy: 0.9198 - val_loss: 0.1410 - val_accuracy: 0.9608\n",
      "Epoch 2/10\n",
      "54000/54000 [==============================] - 7s 123us/step - loss: 0.1268 - accuracy: 0.9638 - val_loss: 0.1171 - val_accuracy: 0.9657\n",
      "Epoch 3/10\n",
      "54000/54000 [==============================] - 7s 121us/step - loss: 0.0951 - accuracy: 0.9715 - val_loss: 0.1127 - val_accuracy: 0.9673\n",
      "Epoch 4/10\n",
      "54000/54000 [==============================] - 6s 120us/step - loss: 0.0790 - accuracy: 0.9772 - val_loss: 0.1053 - val_accuracy: 0.9712\n",
      "Epoch 5/10\n",
      "54000/54000 [==============================] - 7s 127us/step - loss: 0.0682 - accuracy: 0.9797 - val_loss: 0.1069 - val_accuracy: 0.9722\n",
      "Epoch 6/10\n",
      "54000/54000 [==============================] - 7s 125us/step - loss: 0.0569 - accuracy: 0.9833 - val_loss: 0.1285 - val_accuracy: 0.9657\n",
      "Epoch 7/10\n",
      "54000/54000 [==============================] - 7s 124us/step - loss: 0.0492 - accuracy: 0.9855 - val_loss: 0.0961 - val_accuracy: 0.9748\n",
      "Epoch 8/10\n",
      "54000/54000 [==============================] - 7s 123us/step - loss: 0.0445 - accuracy: 0.9875 - val_loss: 0.1018 - val_accuracy: 0.9752\n",
      "Epoch 9/10\n",
      "54000/54000 [==============================] - 7s 123us/step - loss: 0.0399 - accuracy: 0.9884 - val_loss: 0.1036 - val_accuracy: 0.9748\n",
      "Epoch 10/10\n",
      "54000/54000 [==============================] - 7s 123us/step - loss: 0.0385 - accuracy: 0.9894 - val_loss: 0.0897 - val_accuracy: 0.9757\n"
     ]
    }
   ],
   "source": [
    "history = model.fit(x=X_train,y=y_train,epochs=10,validation_data=(X_val,y_val),batch_size=32)"
   ]
  },
  {
   "cell_type": "code",
   "execution_count": 28,
   "metadata": {
    "colab": {
     "base_uri": "https://localhost:8080/",
     "height": 52
    },
    "colab_type": "code",
    "id": "Hhlpy-sKJkij",
    "outputId": "9ee7b0a1-db00-484a-ab5d-3920f5f0616a"
   },
   "outputs": [
    {
     "name": "stdout",
     "output_type": "stream",
     "text": [
      "10000/10000 [==============================] - 0s 32us/step\n"
     ]
    },
    {
     "data": {
      "text/plain": [
       "[0.09061296099546598, 0.9764000177383423]"
      ]
     },
     "execution_count": 28,
     "metadata": {
      "tags": []
     },
     "output_type": "execute_result"
    }
   ],
   "source": [
    "model.evaluate(test_digits_sc,test_labels_cat)"
   ]
  },
  {
   "cell_type": "code",
   "execution_count": 29,
   "metadata": {
    "colab": {
     "base_uri": "https://localhost:8080/",
     "height": 69
    },
    "colab_type": "code",
    "id": "fAb9j2v5OaIp",
    "outputId": "64f3b035-2980-4419-d7aa-eed7fabb564d"
   },
   "outputs": [
    {
     "name": "stdout",
     "output_type": "stream",
     "text": [
      "(10000, 28, 28)\n",
      "(28, 28)\n",
      "(1, 28, 28)\n"
     ]
    }
   ],
   "source": [
    "print(test_digits_sc.shape)\n",
    "print(test_digits_sc[0].shape)\n",
    "print(np.expand_dims(test_digits_sc[0],axis=0).shape)"
   ]
  },
  {
   "cell_type": "code",
   "execution_count": 30,
   "metadata": {
    "colab": {
     "base_uri": "https://localhost:8080/",
     "height": 69
    },
    "colab_type": "code",
    "id": "fiSDJeXtPrEC",
    "outputId": "1ed3e8ae-5499-4725-f2c4-06d7f5e5a096"
   },
   "outputs": [
    {
     "data": {
      "text/plain": [
       "array([[1.3050283e-13, 5.6393894e-08, 3.0161547e-11, 1.8758700e-10,\n",
       "        7.1569961e-10, 3.7881455e-11, 6.4081939e-16, 9.9999583e-01,\n",
       "        2.2919942e-10, 4.2301290e-06]], dtype=float32)"
      ]
     },
     "execution_count": 30,
     "metadata": {
      "tags": []
     },
     "output_type": "execute_result"
    }
   ],
   "source": [
    "model.predict(np.expand_dims(test_digits_sc[0],axis=0))"
   ]
  },
  {
   "cell_type": "code",
   "execution_count": 31,
   "metadata": {
    "colab": {
     "base_uri": "https://localhost:8080/",
     "height": 538
    },
    "colab_type": "code",
    "id": "3kb9thFTQB8d",
    "outputId": "0df669c7-dc51-45be-f1d7-707e6351f5b2"
   },
   "outputs": [
    {
     "data": {
      "text/plain": [
       "array([[1.3050233e-13, 5.6393787e-08, 3.0161432e-11, 1.8758700e-10,\n",
       "        7.1569828e-10, 3.7881309e-11, 6.4081690e-16, 9.9999583e-01,\n",
       "        2.2919899e-10, 4.2301294e-06],\n",
       "       [5.0280509e-11, 1.3596015e-08, 1.0000000e+00, 8.3666052e-12,\n",
       "        1.3277770e-12, 3.3655378e-17, 2.3568514e-15, 4.5927179e-10,\n",
       "        1.2500694e-13, 1.4001285e-21],\n",
       "       [2.0374423e-11, 9.9996603e-01, 1.2554799e-05, 2.8748318e-08,\n",
       "        6.0660859e-08, 4.5662796e-10, 4.1220966e-10, 2.0131662e-05,\n",
       "        1.1627109e-06, 8.5827850e-10],\n",
       "       [9.9996662e-01, 2.1546154e-10, 1.5054061e-05, 1.5312660e-08,\n",
       "        5.4438076e-10, 6.8550014e-07, 1.6467608e-05, 2.7400739e-08,\n",
       "        5.1285605e-07, 7.2834212e-07],\n",
       "       [4.2789980e-10, 2.0100096e-07, 1.5975510e-07, 1.4666510e-09,\n",
       "        9.9997711e-01, 5.9906080e-07, 1.5836085e-06, 1.5786943e-06,\n",
       "        3.2809035e-06, 1.5482032e-05],\n",
       "       [1.0447907e-14, 9.9998891e-01, 9.3193073e-08, 5.1189192e-10,\n",
       "        5.7768013e-10, 1.3106224e-12, 1.0014693e-13, 1.1007512e-05,\n",
       "        4.2537206e-08, 4.1083664e-11],\n",
       "       [2.3407927e-07, 5.4323787e-05, 5.1812200e-05, 1.4518886e-06,\n",
       "        9.9360484e-01, 1.4747279e-05, 9.5428122e-06, 2.8313170e-05,\n",
       "        4.9990108e-03, 1.2357766e-03],\n",
       "       [8.9163379e-08, 1.5663749e-06, 8.5971777e-08, 1.8731059e-04,\n",
       "        1.1477425e-05, 4.9672117e-06, 2.0717090e-13, 1.0940917e-03,\n",
       "        2.0729931e-06, 9.9869835e-01],\n",
       "       [1.1546984e-02, 7.7738059e-03, 5.8904797e-02, 1.1503335e-02,\n",
       "        1.3894093e-01, 4.7829312e-01, 1.8961412e-01, 7.1605169e-03,\n",
       "        7.1101405e-02, 2.5161076e-02],\n",
       "       [4.1924042e-10, 5.7822276e-09, 3.7437935e-11, 1.4134652e-07,\n",
       "        2.5717459e-06, 1.0849435e-08, 4.4254510e-18, 7.7014622e-05,\n",
       "        9.2153316e-09, 9.9992025e-01]], dtype=float32)"
      ]
     },
     "execution_count": 31,
     "metadata": {
      "tags": []
     },
     "output_type": "execute_result"
    }
   ],
   "source": [
    "model.predict(test_digits_sc[:10])"
   ]
  },
  {
   "cell_type": "code",
   "execution_count": 33,
   "metadata": {
    "colab": {
     "base_uri": "https://localhost:8080/",
     "height": 34
    },
    "colab_type": "code",
    "id": "SN6XYOfTQ4KF",
    "outputId": "dc77f45f-123f-4541-da13-c753c0ce5a89"
   },
   "outputs": [
    {
     "data": {
      "text/plain": [
       "array([7])"
      ]
     },
     "execution_count": 33,
     "metadata": {
      "tags": []
     },
     "output_type": "execute_result"
    }
   ],
   "source": [
    "model.predict_classes(np.expand_dims(test_digits_sc[0],axis=0))"
   ]
  },
  {
   "cell_type": "code",
   "execution_count": 34,
   "metadata": {
    "colab": {
     "base_uri": "https://localhost:8080/",
     "height": 34
    },
    "colab_type": "code",
    "id": "f8b8RoaOQpzW",
    "outputId": "459d4f6b-6a58-484c-9c37-6b22135c0aed"
   },
   "outputs": [
    {
     "data": {
      "text/plain": [
       "array([7, 2, 1, 0, 4, 1, 4, 9, 5, 9])"
      ]
     },
     "execution_count": 34,
     "metadata": {
      "tags": []
     },
     "output_type": "execute_result"
    }
   ],
   "source": [
    "model.predict_classes(test_digits_sc[:10])"
   ]
  },
  {
   "cell_type": "code",
   "execution_count": 35,
   "metadata": {
    "colab": {
     "base_uri": "https://localhost:8080/",
     "height": 69
    },
    "colab_type": "code",
    "id": "v-GARXk2Q1ho",
    "outputId": "4581a689-e6fe-4a4b-8915-4f0e203764bd"
   },
   "outputs": [
    {
     "data": {
      "text/plain": [
       "array([[1.3050283e-13, 5.6393894e-08, 3.0161547e-11, 1.8758700e-10,\n",
       "        7.1569961e-10, 3.7881455e-11, 6.4081939e-16, 9.9999583e-01,\n",
       "        2.2919942e-10, 4.2301290e-06]], dtype=float32)"
      ]
     },
     "execution_count": 35,
     "metadata": {
      "tags": []
     },
     "output_type": "execute_result"
    }
   ],
   "source": [
    "model.predict_proba(np.expand_dims(test_digits_sc[0],axis=0))"
   ]
  },
  {
   "cell_type": "code",
   "execution_count": 37,
   "metadata": {
    "colab": {
     "base_uri": "https://localhost:8080/",
     "height": 712
    },
    "colab_type": "code",
    "id": "X2Ik40daRCUh",
    "outputId": "9942b31b-9f92-4fae-d18a-89e2663899b8"
   },
   "outputs": [
    {
     "data": {
      "text/plain": [
       "{'accuracy': [0.9197963,\n",
       "  0.9638148,\n",
       "  0.9715185,\n",
       "  0.9772037,\n",
       "  0.97966665,\n",
       "  0.98333335,\n",
       "  0.9855185,\n",
       "  0.9875,\n",
       "  0.9884259,\n",
       "  0.98937035],\n",
       " 'loss': [0.26365839019666115,\n",
       "  0.12678950221860713,\n",
       "  0.09513580794435822,\n",
       "  0.0790186455028166,\n",
       "  0.0682041801446402,\n",
       "  0.05693693852912703,\n",
       "  0.049177230150029234,\n",
       "  0.04453717524937518,\n",
       "  0.03989270204866814,\n",
       "  0.03847515271498641],\n",
       " 'val_accuracy': [0.9608333110809326,\n",
       "  0.965666651725769,\n",
       "  0.9673333168029785,\n",
       "  0.9711666703224182,\n",
       "  0.9721666574478149,\n",
       "  0.965666651725769,\n",
       "  0.9748333096504211,\n",
       "  0.9751666784286499,\n",
       "  0.9748333096504211,\n",
       "  0.9756666421890259],\n",
       " 'val_loss': [0.14098480214178563,\n",
       "  0.11709612540155649,\n",
       "  0.11268020837878187,\n",
       "  0.10525885604477177,\n",
       "  0.10692448699660599,\n",
       "  0.1285455789336314,\n",
       "  0.09607899192456777,\n",
       "  0.10182954351697117,\n",
       "  0.10361905229169255,\n",
       "  0.08972832904919051]}"
      ]
     },
     "execution_count": 37,
     "metadata": {
      "tags": []
     },
     "output_type": "execute_result"
    }
   ],
   "source": [
    "history.history\n",
    "#this is a dictionary"
   ]
  },
  {
   "cell_type": "code",
   "execution_count": 38,
   "metadata": {
    "colab": {
     "base_uri": "https://localhost:8080/",
     "height": 34
    },
    "colab_type": "code",
    "id": "AmdJxZrwRd6f",
    "outputId": "a4b317fb-8884-4db4-e6a1-a51b9cde71d4"
   },
   "outputs": [
    {
     "data": {
      "text/plain": [
       "dict_keys(['val_loss', 'val_accuracy', 'loss', 'accuracy'])"
      ]
     },
     "execution_count": 38,
     "metadata": {
      "tags": []
     },
     "output_type": "execute_result"
    }
   ],
   "source": [
    "history.history.keys()"
   ]
  },
  {
   "cell_type": "code",
   "execution_count": 42,
   "metadata": {
    "colab": {
     "base_uri": "https://localhost:8080/",
     "height": 282
    },
    "colab_type": "code",
    "id": "SzWcabYjRjve",
    "outputId": "a792d0d5-4745-46a0-f02d-bc8639631e85"
   },
   "outputs": [
    {
     "data": {
      "text/plain": [
       "[<matplotlib.lines.Line2D at 0x7f31c4a806a0>]"
      ]
     },
     "execution_count": 42,
     "metadata": {
      "tags": []
     },
     "output_type": "execute_result"
    },
    {
     "data": {
      "image/png": "[encoded data removed]",
      "text/plain": [
       "<Figure size 432x288 with 1 Axes>"
      ]
     },
     "metadata": {
      "needs_background": "light",
      "tags": []
     },
     "output_type": "display_data"
    }
   ],
   "source": [
    "plt.plot(range(1,11),history.history['accuracy'])"
   ]
  },
  {
   "cell_type": "code",
   "execution_count": 40,
   "metadata": {
    "colab": {
     "base_uri": "https://localhost:8080/",
     "height": 282
    },
    "colab_type": "code",
    "id": "8ECks5BNR00P",
    "outputId": "0188baa6-3447-4893-d6a5-3cc9946378e7"
   },
   "outputs": [
    {
     "data": {
      "text/plain": [
       "[<matplotlib.lines.Line2D at 0x7f31c4b43160>]"
      ]
     },
     "execution_count": 40,
     "metadata": {
      "tags": []
     },
     "output_type": "execute_result"
    },
    {
     "data": {
      "image/png": "[encoded data removed]",
      "text/plain": [
       "<Figure size 432x288 with 1 Axes>"
      ]
     },
     "metadata": {
      "needs_background": "light",
      "tags": []
     },
     "output_type": "display_data"
    }
   ],
   "source": [
    "plt.plot(range(1,11),history.history['val_accuracy'])"
   ]
  },
  {
   "cell_type": "code",
   "execution_count": 43,
   "metadata": {
    "colab": {
     "base_uri": "https://localhost:8080/",
     "height": 282
    },
    "colab_type": "code",
    "id": "Xg-Iebd5R8vA",
    "outputId": "c7ead13f-a15c-41d0-f25f-7b5c533470a8"
   },
   "outputs": [
    {
     "data": {
      "text/plain": [
       "[<matplotlib.lines.Line2D at 0x7f31c4a92be0>]"
      ]
     },
     "execution_count": 43,
     "metadata": {
      "tags": []
     },
     "output_type": "execute_result"
    },
    {
     "data": {
      "image/png": "[encoded data removed]",
      "text/plain": [
       "<Figure size 432x288 with 1 Axes>"
      ]
     },
     "metadata": {
      "needs_background": "light",
      "tags": []
     },
     "output_type": "display_data"
    }
   ],
   "source": [
    "plt.plot(range(1,11),history.history['accuracy'])\n",
    "plt.plot(range(1,11),history.history['val_accuracy'])"
   ]
  }
 ],
 "metadata": {
  "colab": {
   "collapsed_sections": [],
   "name": "09-07-2020[DL-ImageProcessing].ipynb",
   "provenance": []
  },
  "kernelspec": {
   "display_name": "Python 3",
   "language": "python",
   "name": "python3"
  },
  "language_info": {
   "codemirror_mode": {
    "name": "ipython",
    "version": 3
   },
   "file_extension": ".py",
   "mimetype": "text/x-python",
   "name": "python",
   "nbconvert_exporter": "python",
   "pygments_lexer": "ipython3",
   "version": "3.7.4"
  }
 },
 "nbformat": 4,
 "nbformat_minor": 1
}
