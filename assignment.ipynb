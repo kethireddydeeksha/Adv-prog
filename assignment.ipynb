{
 "cells": [
  {
   "cell_type": "markdown",
   "metadata": {},
   "source": [
    "## 1.Generate the following pattern "
   ]
  },
  {
   "cell_type": "code",
   "execution_count": 2,
   "metadata": {},
   "outputs": [
    {
     "name": "stdout",
     "output_type": "stream",
     "text": [
      "Enter num of rows 5\n",
      "*  \n",
      "* *  \n",
      "* * *  \n",
      "* * * *  \n",
      "* * * * *  \n"
     ]
    }
   ],
   "source": [
    "a = int(input(\"Enter num of rows \"))\n",
    "for i in range(a):\n",
    "    i=i+1\n",
    "    for n in range(i):\n",
    "        print(\"*\",end=\" \")\n",
    "    print(\" \")"
   ]
  },
  {
   "cell_type": "markdown",
   "metadata": {},
   "source": [
    "## 2.Multiplication table of K"
   ]
  },
  {
   "cell_type": "code",
   "execution_count": 4,
   "metadata": {},
   "outputs": [
    {
     "name": "stdout",
     "output_type": "stream",
     "text": [
      "Enter the Table Number: 3\n",
      "3 X 1 = 3\n",
      "3 X 2 = 6\n",
      "3 X 3 = 9\n",
      "3 X 4 = 12\n",
      "3 X 5 = 15\n",
      "3 X 6 = 18\n",
      "3 X 7 = 21\n",
      "3 X 8 = 24\n",
      "3 X 9 = 27\n",
      "3 X 10 = 30\n"
     ]
    }
   ],
   "source": [
    "K = int(input(\"Enter the Table Number: \"))\n",
    "i = 1\n",
    "while i <= 10:\n",
    "    print(K,\"X\",i,\"=\",K * i)\n",
    "    i+=1"
   ]
  },
  {
   "cell_type": "markdown",
   "metadata": {},
   "source": [
    "## 3.Roots of Quadratic Equation"
   ]
  },
  {
   "cell_type": "code",
   "execution_count": 5,
   "metadata": {},
   "outputs": [
    {
     "name": "stdout",
     "output_type": "stream",
     "text": [
      "enter a : 5\n",
      "enter b : 20\n",
      "enter c : 10\n",
      "There are 2 roots: (-18.585786437626904, -21.414213562373096)\n"
     ]
    }
   ],
   "source": [
    "import math\n",
    "a = float(input(\"enter a : \"))\n",
    "b = float(input(\"enter b : \"))\n",
    "c = float(input(\"enter c : \"))\n",
    "dis = (b * b) - (4 * a * c)\n",
    "if dis > 0:\n",
    "    root1 = (-b + math.sqrt(dis) / (2 * a))\n",
    "    root2 = (-b - math.sqrt(dis) / (2 * a))\n",
    "    print(\"There are 2 roots:\",(root1,root2))\n",
    "elif dia == 0:\n",
    "    root3 = (-b) / 2*a\n",
    "    print(\"There is one root : \",root3)\n",
    "else:\n",
    "    print(\"No roots, discriminant < 0.\")"
   ]
  },
  {
   "cell_type": "markdown",
   "metadata": {},
   "source": [
    "## 4.Convert a Decimal number to Binary "
   ]
  },
  {
   "cell_type": "code",
   "execution_count": 6,
   "metadata": {},
   "outputs": [
    {
     "name": "stdout",
     "output_type": "stream",
     "text": [
      "Enter the number to be converted : 5\n",
      "Binary Equivalent is: \n",
      "1 0 1 "
     ]
    }
   ],
   "source": [
    "num = int(input(\"Enter the number to be converted : \"))\n",
    "a=[]\n",
    "while(num>0):\n",
    "    dig=num%2\n",
    "    a.append(dig)\n",
    "    num=num//2\n",
    "a.reverse()\n",
    "print(\"Binary Equivalent is: \")\n",
    "for i in a:\n",
    "    print(i,end=\" \")"
   ]
  },
  {
   "cell_type": "markdown",
   "metadata": {},
   "source": [
    "## 5.Generate first N number of Fibonacci numbers"
   ]
  },
  {
   "cell_type": "code",
   "execution_count": 7,
   "metadata": {},
   "outputs": [
    {
     "name": "stdout",
     "output_type": "stream",
     "text": [
      "Enter a Number: 12\n",
      "0\n",
      "1\n",
      "1\n",
      "2\n",
      "3\n",
      "5\n",
      "8\n",
      "13\n",
      "21\n",
      "34\n",
      "55\n",
      "89\n"
     ]
    }
   ],
   "source": [
    "num = int(input(\"Enter a Number: \"))\n",
    "n1 = 0\n",
    "n2 = 1\n",
    "count = 0\n",
    "if num <= 0:\n",
    "    print(\"Invalid Number\")\n",
    "elif num == 1:\n",
    "    print(n1)\n",
    "else:\n",
    "    while count < num:\n",
    "        print(n1)\n",
    "        nth = n1 + n2\n",
    "        n1 = n2\n",
    "        n2 = nth\n",
    "        count += 1"
   ]
  },
  {
   "cell_type": "code",
   "execution_count": null,
   "metadata": {},
   "outputs": [],
   "source": []
  }
 ],
 "metadata": {
  "kernelspec": {
   "display_name": "Python 3",
   "language": "python",
   "name": "python3"
  }
 },
 "nbformat": 4,
 "nbformat_minor": 2
}
