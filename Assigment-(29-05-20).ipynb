{
 "cells": [
  {
   "cell_type": "markdown",
   "metadata": {},
   "source": [
    "### Assignment(day-5:29-5-20) \n",
    "#### Q-1 : Create a function to find Factorial of a number using Recursion"
   ]
  },
  {
   "cell_type": "code",
   "execution_count": 1,
   "metadata": {},
   "outputs": [
    {
     "name": "stdout",
     "output_type": "stream",
     "text": [
      "Enter a number: 5\n",
      "120\n"
     ]
    }
   ],
   "source": [
    " #SOLUTION-1:\n",
    "\n",
    "def factorial(n):\n",
    "    if n == 1:\n",
    "        return n\n",
    "    else:\n",
    "        return n * factorial(n-1)\n",
    "n = int(input(\"Enter a number: \"))\n",
    "print(factorial(n))"
   ]
  },
  {
   "cell_type": "markdown",
   "metadata": {},
   "source": [
    "### Q-2 : Create a function to find Factorial of a number using Recursion"
   ]
  },
  {
   "cell_type": "code",
   "execution_count": 2,
   "metadata": {},
   "outputs": [
    {
     "name": "stdout",
     "output_type": "stream",
     "text": [
      "enter n3\n",
      "0\n",
      "1\n",
      "1\n"
     ]
    }
   ],
   "source": [
    "\n",
    "# SOLUTION-2:\n",
    "\n",
    "def Fib(n):\n",
    "    if n<=1:\n",
    "        return n\n",
    "    else:\n",
    "        return (Fib(n-1)+Fib(n-2))\n",
    "n=int(input('enter n'))\n",
    "for i in range(n):\n",
    "    print(Fib(i))"
   ]
  },
  {
   "cell_type": "markdown",
   "metadata": {},
   "source": [
    "### Q-3 : Print sum of list of elements without using sum() function"
   ]
  },
  {
   "cell_type": "code",
   "execution_count": 3,
   "metadata": {},
   "outputs": [
    {
     "name": "stdout",
     "output_type": "stream",
     "text": [
      "15\n"
     ]
    }
   ],
   "source": [
    "# SOLUTION-3:\n",
    "\n",
    "list=[1,2,3,4,5]\n",
    "print(sum(list))"
   ]
  },
  {
   "cell_type": "markdown",
   "metadata": {},
   "source": [
    "### Q-4 : print only even numbers from the list"
   ]
  },
  {
   "cell_type": "code",
   "execution_count": 4,
   "metadata": {},
   "outputs": [
    {
     "name": "stdout",
     "output_type": "stream",
     "text": [
      "2\n",
      "4\n"
     ]
    }
   ],
   "source": [
    "# SOLUTION-4:\n",
    "\n",
    "list=[1,2,3,4,5]\n",
    "for i in list:\n",
    "    if i % 2==0:\n",
    "        print(i)"
   ]
  },
  {
   "cell_type": "markdown",
   "metadata": {},
   "source": [
    "### Q-5 : Write a Python program to get the smallest number from a list and display index of smallest element of the list"
   ]
  },
  {
   "cell_type": "code",
   "execution_count": 5,
   "metadata": {},
   "outputs": [
    {
     "name": "stdout",
     "output_type": "stream",
     "text": [
      "1\n",
      "0\n"
     ]
    }
   ],
   "source": [
    "# SOLUTION-5:\n",
    "\n",
    "list=[1,2,3,4,5]\n",
    "print(min(list))\n",
    "print(list.index(min(list)))"
   ]
  },
  {
   "cell_type": "markdown",
   "metadata": {},
   "source": [
    "### Q-6 : Write a Python function that checks whether a passed string is palindrome or not"
   ]
  },
  {
   "cell_type": "code",
   "execution_count": 6,
   "metadata": {},
   "outputs": [
    {
     "name": "stdout",
     "output_type": "stream",
     "text": [
      "enter a string: deeksha\n",
      "not a palindrome\n"
     ]
    }
   ],
   "source": [
    "# SOLUTION:\n",
    "\n",
    "def palindrome(str):\n",
    "    if str==str[::-1]:\n",
    "        return \"palindrome\"\n",
    "    else:\n",
    "        return 'not a palindrome'\n",
    "str=input(\"enter a string: \")\n",
    "print(palindrome(str))"
   ]
  },
  {
   "cell_type": "markdown",
   "metadata": {},
   "source": [
    "### Q-7 : Write a Python program to count the number of even and odd numbers from a series of numbers.\n",
    "### Sample numbers : numbers = [1, 2, 3, 4, 5, 6, 7, 8, 9]\n",
    "### Expected Output :\n",
    "### Number of even numbers : 4\n",
    "### Number of odd numbers: 5"
   ]
  },
  {
   "cell_type": "code",
   "execution_count": 7,
   "metadata": {},
   "outputs": [
    {
     "name": "stdout",
     "output_type": "stream",
     "text": [
      "even count is: 2\n",
      "odd count is: 3\n"
     ]
    }
   ],
   "source": [
    "\n",
    "# SOLUTION-7:\n",
    "\n",
    "list=[1,2,3,4,5]\n",
    "evencount=0\n",
    "oddcount=0\n",
    "for num in list:\n",
    "    if num%2==0:\n",
    "        evencount+=1\n",
    "    else:\n",
    "        oddcount+=1\n",
    "print(\"even count is:\",evencount)\n",
    "print(\"odd count is:\",oddcount)"
   ]
  },
  {
   "cell_type": "markdown",
   "metadata": {},
   "source": [
    "\n",
    "### Q-8 : Write a Python program that prints all the numbers from 0 to 6 except 3 and 6.\n",
    "### Note : Use 'continue' statement.\n",
    "### Expected Output : 0 1 2 4 5"
   ]
  },
  {
   "cell_type": "code",
   "execution_count": 8,
   "metadata": {},
   "outputs": [
    {
     "name": "stdout",
     "output_type": "stream",
     "text": [
      "0\n",
      "1\n",
      "2\n",
      "4\n",
      "5\n"
     ]
    }
   ],
   "source": [
    "# SOLUTION-8:\n",
    "\n",
    "for x in range(0,7):\n",
    "    if x==3 or x==6:\n",
    "        continue\n",
    "    print(x)"
   ]
  },
  {
   "cell_type": "markdown",
   "metadata": {},
   "source": [
    "### Q-9 : Write a python function to check whether the given number is prime or not"
   ]
  },
  {
   "cell_type": "code",
   "execution_count": 9,
   "metadata": {},
   "outputs": [
    {
     "name": "stdout",
     "output_type": "stream",
     "text": [
      "enter n 5\n",
      "prime\n"
     ]
    }
   ],
   "source": [
    "# SOLUTION-9:\n",
    "\n",
    "def prime(n):\n",
    "    count=0\n",
    "    for i in range(2,n+1):\n",
    "        if n%i==0:\n",
    "            count+=1\n",
    "    if count==1:\n",
    "        return \"prime\"\n",
    "    else:\n",
    "        return \"not a prime\"\n",
    "n+int(input(\"enter n \"))\n",
    "print(prime(n))"
   ]
  },
  {
   "cell_type": "markdown",
   "metadata": {},
   "source": [
    "### Q-10 : Write a python function to check whether the given number is Adam number or not\n",
    "### Example:\n",
    "### Input : 12\n",
    "### Output : Adam Number\n",
    "### Explanation: 12*12 = 144\n",
    "### Reverse of 12 is 21 → 21*21 =441\n",
    "### Reverse of 144 == 441"
   ]
  },
  {
   "cell_type": "code",
   "execution_count": 1,
   "metadata": {},
   "outputs": [
    {
     "name": "stdout",
     "output_type": "stream",
     "text": [
      "enter a number12\n",
      "Adam number\n"
     ]
    }
   ],
   "source": [
    "# SOLUTION-10:\n",
    "\n",
    "n = int(input(\"enter a number\"))\n",
    "if int(str(n**2)[::-1]) == int(str(n)[::-1] )**2:\n",
    "    print(\"Adam number\")\n",
    "else:\n",
    "    print(\"Not a Adam number\")"
   ]
  },
  {
   "cell_type": "code",
   "execution_count": null,
   "metadata": {},
   "outputs": [],
   "source": []
  }
 ],
 "metadata": {
  "kernelspec": {
   "display_name": "Python 3",
   "language": "python",
   "name": "python3"
  },
  "language_info": {
   "codemirror_mode": {
    "name": "ipython",
    "version": 3
   },
   "file_extension": ".py",
   "mimetype": "text/x-python",
   "name": "python",
   "nbconvert_exporter": "python",
   "pygments_lexer": "ipython3",
   "version": "3.7.6"
  }
 },
 "nbformat": 4,
 "nbformat_minor": 4
}
