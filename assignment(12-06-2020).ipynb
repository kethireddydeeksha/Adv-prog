{
 "cells": [
  {
   "cell_type": "markdown",
   "metadata": {},
   "source": [
    "#### Assignment(day-17:12-6-20)\n",
    "###### -1: https://www.codechef.com/problems/RECNDSTR\n",
    "        Chef has a string S consisting of lowercase English characters. Chef defined functions left shift L(X) and right shift R(X) as follows.\n",
    "        L(X) is defined as shifting all characters of string X one step towards left and moving the first character to the end.\n",
    "        R(X) is defined as shifting all characters of string X one step towards the right and moving the last character to the beginning.\n",
    "        For example, L(\"abcd\") = \"bcda\" and R(\"abcd\") = \"dabc\"\n",
    "        Chef wants to find out whether there exists a string V of the same length as S such that both L(V)=S and R(V)=S holds."
   ]
  },
  {
   "cell_type": "code",
   "execution_count": 1,
   "metadata": {},
   "outputs": [
    {
     "name": "stdout",
     "output_type": "stream",
     "text": [
      "4\n",
      "a\n",
      "ab\n",
      "abc\n",
      "aaaa\n",
      "YES\n",
      "YES\n",
      "NO\n",
      "YES\n"
     ]
    }
   ],
   "source": [
    "# SOLUTION-1:\n",
    "def L(x):\n",
    "    return x[1:]+x[0]\n",
    "def R(x):\n",
    "    return x[-1]+x[0:-1]\n",
    "n=int(input())\n",
    "list1 = [input() for i in range(n)]\n",
    "for x in list1:\n",
    "    if L(x) == R(x):\n",
    "        print(\"YES\")\n",
    "    else:\n",
    "        print(\"NO\")"
   ]
  },
  {
   "cell_type": "markdown",
   "metadata": {},
   "source": [
    "### Q-2: https://www.hackerrank.com/challenges/beautiful-days-at-the-movies/problem\n",
    "    Lily likes to play games with integers. She has created a new game where she determines the difference between a number and its reverse. For instance, given the number 12 , its reverse is 21 . Their difference is 9 . The number 120 reversed is 210, and their difference is 99.\n",
    "    She decides to apply her game to decision making. She will look at a numbered range of days and will only go to a movie on a beautiful day.\n",
    "    Given a range of numbered days, [i...j] and a number K, determine the number of days in the range that are beautiful. Beautiful numbers are defined as numbers where |i-reverse(i)| is evenly divisible by K. If a day's value is a beautiful number, it is a beautiful day. Print the number of beautiful days in the range."
   ]
  },
  {
   "cell_type": "code",
   "execution_count": 2,
   "metadata": {},
   "outputs": [
    {
     "name": "stdout",
     "output_type": "stream",
     "text": [
      "20 23 6\n",
      "2\n"
     ]
    }
   ],
   "source": [
    "\n",
    "#SOLUTION-2:\n",
    "i,j,k=map(int,input().split())\n",
    "c=0\n",
    "for n in range(i,j+1):\n",
    "    if((n-int(str(n)[::-1]))%2==0):\n",
    "        c+=1\n",
    "print(c)"
   ]
  },
  {
   "cell_type": "markdown",
   "metadata": {},
   "source": [
    "### Q-3: https://www.hackerrank.com/challenges/birthday-cake-candles/problem\n",
    "    You are in charge of the cake for your niece's birthday and have decided the cake will have one candle for each year of her total age. When she blows out the candles, she’ll only be able to blow out the tallest ones. Your task is to find out how many candles she can successfully blow out.\n",
    "    For example, if your niece is turning 4 years old, and the cake will have 4 candles of height 4 ,4 ,1 ,3 , she will be able to blow out 2 candles successfully, since the tallest candles are of height 4 and there are 2 such candles."
   ]
  },
  {
   "cell_type": "code",
   "execution_count": 3,
   "metadata": {},
   "outputs": [
    {
     "name": "stdout",
     "output_type": "stream",
     "text": [
      "4\n",
      "3 2 1 3\n",
      "2\n"
     ]
    }
   ],
   "source": [
    "#SOLUTION-3:\n",
    "N=int(input())\n",
    "V=list(map(int,input().split()))\n",
    "print(V.count(max(V)))"
   ]
  },
  {
   "cell_type": "markdown",
   "metadata": {},
   "source": [
    "### Q-4(infy TQ): Consider a non-empty array inarr containing non-zero positive single digit integers separated by “,” (comma).Print a string based on the below logic:\n",
    "    From all possible unique three digit number combinations with the elements of inarr\n",
    "    Identify the maximum number maxnum among the three digit combinations formed.\n",
    "    Print the maxnum followed by the total number of unique digit combinations formed,separating them with a “,” (comma) ### Assumption: inarr will contain at least 3 elements #### Note : An element present at a particular index should not be considered more than once while forming a combination."
   ]
  },
  {
   "cell_type": "code",
   "execution_count": 4,
   "metadata": {},
   "outputs": [
    {
     "name": "stdout",
     "output_type": "stream",
     "text": [
      "1,2,3\n",
      "321,6\n"
     ]
    }
   ],
   "source": [
    "#SOLUTION-4:\n",
    "import itertools as it\n",
    "a=list(map(str,input().split(',')))\n",
    "p = it.permutations(a, 3)\n",
    "x = list(set(p))               \n",
    "l = []\n",
    "for i in x:                          \n",
    "    p = ''.join(i)                   \n",
    "    l.append(int(p))\n",
    "l.sort()\n",
    "print(str(l[-1])+','+str(len(l)))"
   ]
  },
  {
   "cell_type": "markdown",
   "metadata": {},
   "source": [
    "### Q-5(infy TQ): For a given positive number num,identify the palindrome formed by performing the following operations\n",
    "    Add num and its reverse\n",
    "    Check whether the sum is palindrome or not.If not,add the sum and its reverse and repeat the process until a palindrome is obtained. #### Input format :\n",
    "    Read num from the standard input stream #### Output format:\n",
    "    print the palindrome calculated to the standard output stream"
   ]
  },
  {
   "cell_type": "code",
   "execution_count": 5,
   "metadata": {},
   "outputs": [
    {
     "name": "stdout",
     "output_type": "stream",
     "text": [
      "545\n",
      "9339\n"
     ]
    }
   ],
   "source": [
    "#SOLUTION-5:\n",
    "## CODE-1:\n",
    "def rev_number(n):\n",
    "  s = 0\n",
    "  while True:Q-5(infy TQ): For a given positive number num,identify the palindrome formed by performing the following operations\n",
    "Add num and its reverse\n",
    "Check whether the sum is palindrome or not.If not,add the sum and its reverse and repeat the process until a palindrome is obtained. #### Input format :\n",
    "Read num from the standard input stream #### Output format:\n",
    "print the palindrome calculated to the standard output stream\n",
    "    k = str(n)\n",
    "    if k == k[::-1]:\n",
    "      break\n",
    "    else:\n",
    "      m = int(k[::-1])\n",
    "      n += m\n",
    "      s += 1\n",
    "  return n \n",
    "\n",
    "print(rev_number(124))\n",
    "print(rev_number(195))"
   ]
  },
  {
   "cell_type": "code",
   "execution_count": 6,
   "metadata": {},
   "outputs": [
    {
     "name": "stdout",
     "output_type": "stream",
     "text": [
      "124\n",
      "545\n"
     ]
    }
   ],
   "source": [
    "\n",
    "#SOLUTION-5:\n",
    "## CODE-2:\n",
    "n=int(input())\n",
    "while(True):\n",
    "    n=str(n)\n",
    "    if(n ==n[::-1]):\n",
    "        print(n)\n",
    "        break\n",
    "    else:\n",
    "        n=int(n)+int(n[::-1])"
   ]
  },
  {
   "cell_type": "markdown",
   "metadata": {},
   "source": [
    "### Q-6: https://www.codechef.com/problems/SLAEL\n",
    "###### Find the length of the longest contiguous segment in an array, in which if a given element K is inserted, K becomes the second largest element of that subarray."
   ]
  },
  {
   "cell_type": "code",
   "execution_count": 7,
   "metadata": {},
   "outputs": [
    {
     "name": "stdout",
     "output_type": "stream",
     "text": [
      "2\n",
      "5 3\n",
      "2 4 2 4 2\n",
      "output:\n",
      " 5 \n",
      "\n",
      "8 5\n",
      "9 3 5 7 8 11 17 2\n",
      "output:\n",
      " 3 \n",
      "\n"
     ]
    }
   ],
   "source": [
    "#SOLUTION-6:\n",
    "## CODE-1:\n",
    "t=int(input())\n",
    "Q-6: https://www.codechef.com/problems/SLAEL\n",
    "Find the length of the longest contiguous segment in an array, in which if a given element K is inserted, K becomes the second largest element of that subarray.\n",
    "while(t>0):\n",
    "    n,k=map(int,input().split())\n",
    "    a=list(map(int,input().split()))\n",
    "    gre=0\n",
    "    l=0\n",
    "    pos=-1\n",
    "    long=0\n",
    "    for i in range(n):\n",
    "        if a[i]>k and gre!=0 and a[i]!=gre:\n",
    "            gre = a[i]\n",
    "            if long<l:\n",
    "                long=l\n",
    "            l = i - pos\n",
    "            pos=i\n",
    "            continue\n",
    "        elif a[i]>k:\n",
    "            gre = a[i]\n",
    "            pos=i\n",
    "        l+=1\n",
    "    if long<l:\n",
    "        long=l\n",
    "    t-=1\n",
    "    print(\"output:\\n\",long,\"\\n\")"
   ]
  },
  {
   "cell_type": "code",
   "execution_count": 9,
   "metadata": {},
   "outputs": [
    {
     "name": "stdout",
     "output_type": "stream",
     "text": [
      "2\n",
      "5 3\n",
      "2 4 2 4 2\n",
      "5\n",
      "8 5\n",
      "9 3 5 7 8 11 17 2\n",
      "3\n"
     ]
    }
   ],
   "source": [
    "### #SOLUTION-6:\n",
    "## CODE-2:\n",
    "t=int(input())\n",
    "while t:\n",
    "    a=input().split()\n",
    "    n=int(a[0])\n",
    "    k=int(a[1])\n",
    "    lst=input().split()\n",
    "    for i in range(n):\n",
    "        lst[i] = int(lst[i])\n",
    "    greater = 0\n",
    "    length=0\n",
    "    pos = -1\n",
    "    allTimeLong=0\n",
    "    for i in range(n):\n",
    "        if lst[i]>k and greater!=0 and lst[i]!=greater:\n",
    "            greater = lst[i]\n",
    "            if allTimeLong<length:\n",
    "                allTimeLong=length\n",
    "            length = i - pos\n",
    "            pos=i\n",
    "            continue\n",
    "        elif lst[i]>k:\n",
    "            greater = lst[i]\n",
    "            pos=i\n",
    "        length+=1\n",
    "    if allTimeLong<length:\n",
    "        allTimeLong=length\n",
    "    t-=1\n",
    "    print(allTimeLong)"
   ]
  },
  {
   "cell_type": "markdown",
   "metadata": {},
   "source": [
    "### Q-7: For digits:\n",
    "##### find the reverse of the number and add it to the original number\n",
    "    if that sum is not palindrome,again add its reverse to that sum\n",
    "    Find the palindrome numbers for each number in the string by repeating the above step\n",
    "    Find the maximum palindrome number among all and its original number And return the alphabetic code of that palindrome number as output"
   ]
  },
  {
   "cell_type": "code",
   "execution_count": 10,
   "metadata": {},
   "outputs": [
    {
     "name": "stdout",
     "output_type": "stream",
     "text": [
      "xyz:750,abc:265,qwerty:19\n"
     ]
    },
    {
     "data": {
      "text/plain": [
       "'abc'"
      ]
     },
     "execution_count": 10,
     "metadata": {},
     "output_type": "execute_result"
    }
   ],
   "source": [
    "#SOLUTION-7:\n",
    "s = input()\n",
    "list1 = s.split(\",\")\n",
    "list2 = [i.split(\":\")[1] for i in list1]\n",
    "list3 = []\n",
    "for num in list2:\n",
    "    n = int(num)\n",
    "    rev = num[::-1]\n",
    "    while str(n) != rev:\n",
    "        n += int(rev)\n",
    "        rev = str(n)[::-1]\n",
    "    list3.append(n)\n",
    "list1[list3.index(max(list3))].split(\":\")[0]"
   ]
  },
  {
   "cell_type": "markdown",
   "metadata": {},
   "source": [
    "##### Q-8: The groups_per_user function receives a dictionary.which contains group names with the list of users.Users can belong to multiple groups.Return a dictionary with the users as keys and a list of their groups as values.\n",
    "    Input : {\"local\":[\"admin\",\"userA\"],\"public\":[\"admin\",\"userB\"],\"administrator\":[\"admin\"]}\n",
    "    Output : {'admin': ['local', 'public', 'administrator'],\n",
    "    'userA': ['local'],\n",
    "    'userB': ['public']}"
   ]
  },
  {
   "cell_type": "code",
   "execution_count": 11,
   "metadata": {},
   "outputs": [
    {
     "name": "stdout",
     "output_type": "stream",
     "text": [
      "{'admin': 'administrator', 'userA': 'local', 'userB': 'public'}\n"
     ]
    }
   ],
   "source": [
    "#SOLUTION-8:\n",
    "def groups_per_user(group_dictionary):\n",
    "    user_groups = {}\n",
    "    groups = []\n",
    "    # Go through group_dictionary\n",
    "    for group,users in group_dictionary.items():\n",
    "        # Now go through the users in the group\n",
    "        for user in users:\n",
    "        # Now add the group to the the list of\n",
    "          # groups for this user, creating the entry\n",
    "          # in the dictionary if necessary\n",
    "          groups.append(group)\n",
    "          user_groups[user] = group\n",
    "\n",
    "    return(user_groups)\n",
    "\n",
    "print(groups_per_user({\"local\": [\"admin\", \"userA\"],\n",
    "        \"public\":  [\"admin\", \"userB\"],\n",
    "        \"administrator\": [\"admin\"] }))"
   ]
  },
  {
   "cell_type": "markdown",
   "metadata": {},
   "source": [
    "### Q-9: Input : london 40000 12,chicago 60000 20,munich 50000 15,paris 70000 5\n",
    "    Output : paris munich\n",
    "    London 40000 12\n",
    "    Chicago 60000 20\n",
    "    Munich 50000 15\n",
    "    Paris 70000 5"
   ]
  },
  {
   "cell_type": "code",
   "execution_count": 13,
   "metadata": {},
   "outputs": [
    {
     "name": "stdout",
     "output_type": "stream",
     "text": [
      "london 40000 12,chicago 60000 20,munich 50000 15,paris 70000 5 ['london 40000 12', 'chicago 60000 20', 'munich 50000 15', 'paris 70000 5']\n",
      "['london 40000 12', 'chicago 60000 20', 'munich 50000 15', \"paris 70000 5 ['london 40000 12'\", \" 'chicago 60000 20'\", \" 'munich 50000 15'\", \" 'paris 70000 5']\"]\n"
     ]
    },
    {
     "ename": "ValueError",
     "evalue": "invalid literal for int() with base 10: \"20'\"",
     "output_type": "error",
     "traceback": [
      "\u001b[1;31m---------------------------------------------------------------------------\u001b[0m",
      "\u001b[1;31mValueError\u001b[0m                                Traceback (most recent call last)",
      "\u001b[1;32m<ipython-input-13-9b1729ae8cad>\u001b[0m in \u001b[0;36m<module>\u001b[1;34m\u001b[0m\n\u001b[0;32m     10\u001b[0m     \u001b[0ma1\u001b[0m\u001b[1;33m=\u001b[0m\u001b[0mlist\u001b[0m\u001b[1;33m(\u001b[0m\u001b[0mi\u001b[0m\u001b[1;33m.\u001b[0m\u001b[0msplit\u001b[0m\u001b[1;33m(\u001b[0m\u001b[1;33m)\u001b[0m\u001b[1;33m)\u001b[0m\u001b[1;33m\u001b[0m\u001b[1;33m\u001b[0m\u001b[0m\n\u001b[0;32m     11\u001b[0m     \u001b[0ma\u001b[0m\u001b[1;33m[\u001b[0m\u001b[0ma1\u001b[0m\u001b[1;33m[\u001b[0m\u001b[1;36m0\u001b[0m\u001b[1;33m]\u001b[0m\u001b[1;33m]\u001b[0m\u001b[1;33m=\u001b[0m\u001b[0mint\u001b[0m\u001b[1;33m(\u001b[0m\u001b[0ma1\u001b[0m\u001b[1;33m[\u001b[0m\u001b[1;36m1\u001b[0m\u001b[1;33m]\u001b[0m\u001b[1;33m)\u001b[0m\u001b[1;33m\u001b[0m\u001b[1;33m\u001b[0m\u001b[0m\n\u001b[1;32m---> 12\u001b[1;33m     \u001b[0mb\u001b[0m\u001b[1;33m[\u001b[0m\u001b[0ma1\u001b[0m\u001b[1;33m[\u001b[0m\u001b[1;36m0\u001b[0m\u001b[1;33m]\u001b[0m\u001b[1;33m]\u001b[0m\u001b[1;33m=\u001b[0m\u001b[0mint\u001b[0m\u001b[1;33m(\u001b[0m\u001b[0ma1\u001b[0m\u001b[1;33m[\u001b[0m\u001b[1;36m2\u001b[0m\u001b[1;33m]\u001b[0m\u001b[1;33m)\u001b[0m\u001b[1;33m\u001b[0m\u001b[1;33m\u001b[0m\u001b[0m\n\u001b[0m\u001b[0;32m     13\u001b[0m \u001b[0ma1\u001b[0m \u001b[1;33m=\u001b[0m \u001b[0msorted\u001b[0m\u001b[1;33m(\u001b[0m\u001b[0ma\u001b[0m\u001b[1;33m.\u001b[0m\u001b[0mitems\u001b[0m\u001b[1;33m(\u001b[0m\u001b[1;33m)\u001b[0m\u001b[1;33m,\u001b[0m \u001b[0mkey\u001b[0m\u001b[1;33m=\u001b[0m\u001b[1;32mlambda\u001b[0m \u001b[0mx\u001b[0m\u001b[1;33m:\u001b[0m \u001b[0mx\u001b[0m\u001b[1;33m[\u001b[0m\u001b[1;36m1\u001b[0m\u001b[1;33m]\u001b[0m\u001b[1;33m,\u001b[0m\u001b[0mreverse\u001b[0m\u001b[1;33m=\u001b[0m\u001b[1;32mTrue\u001b[0m\u001b[1;33m)\u001b[0m\u001b[1;33m\u001b[0m\u001b[1;33m\u001b[0m\u001b[0m\n\u001b[0;32m     14\u001b[0m \u001b[0mb1\u001b[0m \u001b[1;33m=\u001b[0m \u001b[0msorted\u001b[0m\u001b[1;33m(\u001b[0m\u001b[0mb\u001b[0m\u001b[1;33m.\u001b[0m\u001b[0mitems\u001b[0m\u001b[1;33m(\u001b[0m\u001b[1;33m)\u001b[0m\u001b[1;33m,\u001b[0m \u001b[0mkey\u001b[0m\u001b[1;33m=\u001b[0m\u001b[1;32mlambda\u001b[0m \u001b[0mx\u001b[0m\u001b[1;33m:\u001b[0m \u001b[0mx\u001b[0m\u001b[1;33m[\u001b[0m\u001b[1;36m1\u001b[0m\u001b[1;33m]\u001b[0m\u001b[1;33m)\u001b[0m\u001b[1;33m\u001b[0m\u001b[1;33m\u001b[0m\u001b[0m\n",
      "\u001b[1;31mValueError\u001b[0m: invalid literal for int() with base 10: \"20'\""
     ]
    }
   ],
   "source": [
    "#SOLUTION-9:\n",
    "s=input()\n",
    "s1=s.split(',')\n",
    "print(s1)\n",
    "a={}\n",
    "b={}\n",
    "al=[]\n",
    "bl=[]\n",
    "for i in s1:\n",
    "    a1=list(i.split())\n",
    "    a[a1[0]]=int(a1[1])\n",
    "    b[a1[0]]=int(a1[2])\n",
    "a1 = sorted(a.items(), key=lambda x: x[1],reverse=True)\n",
    "b1 = sorted(b.items(), key=lambda x: x[1])\n",
    "for i in a1:\n",
    "    al.append(i[0])\n",
    "for i in b1:\n",
    "    bl.append(i[0])\n",
    "for i in range(0,len(a1)):\n",
    "    if(al[i]==bl[i]):\n",
    "        print(al[i],end=\" \")\n"
   ]
  },
  {
   "cell_type": "markdown",
   "metadata": {},
   "source": [
    "### Q-10: Jug Filling Problem\n",
    "###### Problem statement: “Given two empty jugs with 3 and 5 liter capacities and a full jug with 8 liters, find a sequence of pours leaving four liters in the two largest jugs."
   ]
  },
  {
   "cell_type": "code",
   "execution_count": 14,
   "metadata": {},
   "outputs": [
    {
     "name": "stdout",
     "output_type": "stream",
     "text": [
      "Starting work...\n",
      "\n",
      "(8, 0, 0)\n",
      "(3, 5, 0)\n",
      "(0, 5, 3)\n",
      "(5, 0, 3)\n",
      "(5, 3, 0)\n",
      "(2, 3, 3)\n",
      "(2, 5, 1)\n",
      "(7, 0, 1)\n",
      "(7, 1, 0)\n",
      "(4, 1, 3)\n",
      "(4, 4, 0)\n",
      "Starting work...\n",
      "\n",
      "(8, 0, 0)\n",
      "(3, 5, 0)\n",
      "(0, 5, 3)\n",
      "(5, 0, 3)\n",
      "(5, 3, 0)\n",
      "(2, 3, 3)\n",
      "(2, 5, 1)\n",
      "(7, 0, 1)\n",
      "(7, 1, 0)\n",
      "(4, 1, 3)\n",
      "(4, 4, 0)\n"
     ]
    }
   ],
   "source": [
    "# 3 water jugs capacity -> (x,y,z) where x>y>z\n",
    "# initial state (12,0,0)\n",
    "# final state (6,6,0)\n",
    "\n",
    "capacity = (8,5,3)\n",
    "# Maximum capacities of 3 jugs -> x,y,z\n",
    "x = capacity[0]\n",
    "y = capacity[1]\n",
    "z = capacity[2]\n",
    "\n",
    "# to mark visited states\n",
    "memory = {}\n",
    "\n",
    "# store solution path\n",
    "ans = []\n",
    "\n",
    "def get_all_states(state):\n",
    "  # Let the 3 jugs be called a,b,c\n",
    "  a = state[0]\n",
    "  b = state[1]\n",
    "  c = state[2]\n",
    "\n",
    "  if(a==4 and b==4):\n",
    "      ans.append(state)\n",
    "      return True\n",
    "\n",
    "  # if current state is already visited earlier\n",
    "  if((a,b,c) in memory):\n",
    "      return False\n",
    "\n",
    "  memory[(a,b,c)] = 1\n",
    "\n",
    "  #empty jug a\n",
    "  if(a>0):\n",
    "      #empty a into b\n",
    "      if(a+b<=y):\n",
    "          if( get_all_states((0,a+b,c)) ):\n",
    "              ans.append(state)\n",
    "              return True\n",
    "      else:\n",
    "          if( get_all_states((a-(y-b), y, c)) ):\n",
    "              ans.append(state)\n",
    "              return True\n",
    "      #empty a into c\n",
    "      if(a+c<=z):\n",
    "          if( get_all_states((0,b,a+c)) ):\n",
    "              ans.append(state)\n",
    "              return True\n",
    "      else:\n",
    "          if( get_all_states((a-(z-c), b, z)) ):\n",
    "              ans.append(state)\n",
    "              return True\n",
    "\n",
    "  #empty jug b\n",
    "  if(b>0):\n",
    "      #empty b into a\n",
    "      if(a+b<=x):\n",
    "          if( get_all_states((a+b, 0, c)) ):\n",
    "              ans.append(state)\n",
    "              return True\n",
    "      else:\n",
    "          if( get_all_states((x, b-(x-a), c)) ):\n",
    "              ans.append(state)\n",
    "              return True\n",
    "      #empty b into c\n",
    "      if(b+c<=z):\n",
    "          if( get_all_states((a, 0, b+c)) ):\n",
    "              ans.append(state)\n",
    "              return True\n",
    "      else:\n",
    "          if( get_all_states((a, b-(z-c), z)) ):\n",
    "              ans.append(state)\n",
    "              return True\n",
    "\n",
    "  #empty jug c\n",
    "  if(c>0):\n",
    "      #empty c into a\n",
    "      if(a+c<=x):\n",
    "          if( get_all_states((a+c, b, 0)) ):\n",
    "              ans.append(state)\n",
    "              return True\n",
    "      else:\n",
    "          if( get_all_states((x, b, c-(x-a))) ):\n",
    "              ans.append(state)\n",
    "              return True\n",
    "      #empty c into b\n",
    "      if(b+c<=y):\n",
    "          if( get_all_states((a, b+c, 0)) ):\n",
    "              ans.append(state)\n",
    "              return True\n",
    "      else:\n",
    "          if( get_all_states((a, y, c-(y-b))) ):\n",
    "              ans.append(state)\n",
    "              return True\n",
    "\n",
    "  return False\n",
    "\n",
    "initial_state = (8,0,0)\n",
    "print(\"Starting work...\\n\")\n",
    "get_all_states(initial_state)\n",
    "ans.reverse()\n",
    "for i in ans:\n",
    "  print(i)# 3 water jugs capacity -> (x,y,z) where x>y>z\n",
    "# initial state (12,0,0)\n",
    "# final state (6,6,0)\n",
    "\n",
    "capacity = (8,5,3)\n",
    "# Maximum capacities of 3 jugs -> x,y,z\n",
    "x = capacity[0]\n",
    "y = capacity[1]\n",
    "z = capacity[2]\n",
    "\n",
    "# to mark visited states\n",
    "memory = {}\n",
    "\n",
    "# store solution path\n",
    "ans = []\n",
    "\n",
    "def get_all_states(state):\n",
    "  # Let the 3 jugs be called a,b,c\n",
    "  a = state[0]\n",
    "  b = state[1]\n",
    "  c = state[2]\n",
    "\n",
    "  if(a==4 and b==4):\n",
    "      ans.append(state)\n",
    "      return True\n",
    "\n",
    "  # if current state is already visited earlier\n",
    "  if((a,b,c) in memory):\n",
    "      return False\n",
    "\n",
    "  memory[(a,b,c)] = 1\n",
    "\n",
    "  #empty jug a\n",
    "  if(a>0):\n",
    "      #empty a into b\n",
    "      if(a+b<=y):\n",
    "          if( get_all_states((0,a+b,c)) ):\n",
    "              ans.append(state)\n",
    "              return True\n",
    "      else:\n",
    "          if( get_all_states((a-(y-b), y, c)) ):\n",
    "              ans.append(state)\n",
    "              return True\n",
    "      #empty a into c\n",
    "      if(a+c<=z):\n",
    "          if( get_all_states((0,b,a+c)) ):\n",
    "              ans.append(state)\n",
    "              return True\n",
    "      else:\n",
    "          if( get_all_states((a-(z-c), b, z)) ):\n",
    "              ans.append(state)\n",
    "              return True\n",
    "\n",
    "  #empty jug b\n",
    "  if(b>0):\n",
    "      #empty b into a\n",
    "      if(a+b<=x):\n",
    "          if( get_all_states((a+b, 0, c)) ):\n",
    "              ans.append(state)\n",
    "              return True\n",
    "      else:\n",
    "          if( get_all_states((x, b-(x-a), c)) ):\n",
    "              ans.append(state)\n",
    "              return True\n",
    "      #empty b into c\n",
    "      if(b+c<=z):\n",
    "          if( get_all_states((a, 0, b+c)) ):\n",
    "              ans.append(state)\n",
    "              return True\n",
    "      else:\n",
    "          if( get_all_states((a, b-(z-c), z)) ):\n",
    "              ans.append(state)\n",
    "              return True\n",
    "\n",
    "  #empty jug c\n",
    "  if(c>0):\n",
    "      #empty c into a\n",
    "      if(a+c<=x):\n",
    "          if( get_all_states((a+c, b, 0)) ):\n",
    "              ans.append(state)\n",
    "              return True\n",
    "      else:\n",
    "          if( get_all_states((x, b, c-(x-a))) ):\n",
    "              ans.append(state)\n",
    "              return True\n",
    "      #empty c into b\n",
    "      if(b+c<=y):\n",
    "          if( get_all_states((a, b+c, 0)) ):\n",
    "              ans.append(state)\n",
    "              return True\n",
    "      else:\n",
    "          if( get_all_states((a, y, c-(y-b))) ):\n",
    "              ans.append(state)\n",
    "              return True\n",
    "\n",
    "  return False\n",
    "\n",
    "initial_state = (8,0,0)\n",
    "print(\"Starting work...\\n\")\n",
    "get_all_states(initial_state)\n",
    "ans.reverse()\n",
    "for i in ans:\n",
    "  print(i)"
   ]
  },
  {
   "cell_type": "markdown",
   "metadata": {},
   "source": [
    "### Q-11: Input:\n",
    "###### user_id = [1,1,2,3,3,4,4,4,5,5]\n",
    "###### ancestry=[\"England\",\"Ireland\",\"France\",\"Germany\",\"Poland\",\"England\",\"France\",\"Germany\",\"France\",\"Germany\"]\n",
    "    If my required countries are France and Germany\n",
    "    required = ['France', 'Germany']\n",
    "    Output:\n",
    "    4\n",
    "    5"
   ]
  },
  {
   "cell_type": "code",
   "execution_count": 16,
   "metadata": {},
   "outputs": [
    {
     "name": "stdout",
     "output_type": "stream",
     "text": [
      "4\n",
      "5\n"
     ]
    }
   ],
   "source": [
    "#SOLUTION-11:\n",
    "user_id=[1,1,2,3,3,4,4,4,5,5]\n",
    "user=list(set(user_id))\n",
    "ancestry=[\"England\",\"Ireland\",\"France\",\"Germany\",\"Poland\",\"England\",\"France\",\"Germany\",\"France\",\"Germany\"]\n",
    "r={}\n",
    "for i in range(0,len(user_id)):\n",
    "    if(user_id[i] not in r.keys()):\n",
    "        r[user_id[i]]=[]\n",
    "        r[user_id[i]].append(ancestry[i])\n",
    "    else:\n",
    "        r[user_id[i]].append(ancestry[i])\n",
    "required = ['France', 'Germany']\n",
    "for i in range(0,len(user)):\n",
    "    if(set(required).issubset(set(r[user[i]]))):\n",
    "        print(user[i])"
   ]
  },
  {
   "cell_type": "code",
   "execution_count": null,
   "metadata": {},
   "outputs": [],
   "source": []
  }
 ],
 "metadata": {
  "kernelspec": {
   "display_name": "Python 3",
   "language": "python",
   "name": "python3"
  },
  "language_info": {
   "codemirror_mode": {
    "name": "ipython",
    "version": 3
   },
   "file_extension": ".py",
   "mimetype": "text/x-python",
   "name": "python",
   "nbconvert_exporter": "python",
   "pygments_lexer": "ipython3",
   "version": "3.7.6"
  }
 },
 "nbformat": 4,
 "nbformat_minor": 4
}
